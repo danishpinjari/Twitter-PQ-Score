{
 "cells": [
  {
   "cell_type": "markdown",
   "metadata": {},
   "source": [
    "Step 1: Load and Explore the Data"
   ]
  },
  {
   "cell_type": "code",
   "execution_count": 1,
   "metadata": {},
   "outputs": [],
   "source": [
    "import pandas as pd\n",
    "import numpy as np\n",
    "import seaborn as sns"
   ]
  },
  {
   "cell_type": "code",
   "execution_count": 2,
   "metadata": {},
   "outputs": [],
   "source": [
    "# Load the dataset from CSV file\n",
    "df = pd.read_csv('twitter_leaders.csv')"
   ]
  },
  {
   "cell_type": "code",
   "execution_count": 3,
   "metadata": {},
   "outputs": [
    {
     "data": {
      "text/html": [
       "<div>\n",
       "<style scoped>\n",
       "    .dataframe tbody tr th:only-of-type {\n",
       "        vertical-align: middle;\n",
       "    }\n",
       "\n",
       "    .dataframe tbody tr th {\n",
       "        vertical-align: top;\n",
       "    }\n",
       "\n",
       "    .dataframe thead th {\n",
       "        text-align: right;\n",
       "    }\n",
       "</style>\n",
       "<table border=\"1\" class=\"dataframe\">\n",
       "  <thead>\n",
       "    <tr style=\"text-align: right;\">\n",
       "      <th></th>\n",
       "      <th>Unnamed: 0</th>\n",
       "      <th>username</th>\n",
       "      <th>bio</th>\n",
       "      <th>profile_url</th>\n",
       "      <th>location</th>\n",
       "      <th>website</th>\n",
       "    </tr>\n",
       "  </thead>\n",
       "  <tbody>\n",
       "    <tr>\n",
       "      <th>0</th>\n",
       "      <td>0</td>\n",
       "      <td>vpindia</td>\n",
       "      <td>official twitter account of the vice president...</td>\n",
       "      <td>https://twitter.com/VPIndia</td>\n",
       "      <td>new delhi, india</td>\n",
       "      <td>https://t.co/1u25beBv9x</td>\n",
       "    </tr>\n",
       "    <tr>\n",
       "      <th>1</th>\n",
       "      <td>1</td>\n",
       "      <td>vp</td>\n",
       "      <td>vice president of the united states. wife to t...</td>\n",
       "      <td>https://twitter.com/VP</td>\n",
       "      <td>NaN</td>\n",
       "      <td>https://t.co/vbwTCDuFie</td>\n",
       "    </tr>\n",
       "    <tr>\n",
       "      <th>2</th>\n",
       "      <td>2</td>\n",
       "      <td>madam_president</td>\n",
       "      <td>a project of @emilyslist with the goal of elec...</td>\n",
       "      <td>https://twitter.com/Madam_President</td>\n",
       "      <td>NaN</td>\n",
       "      <td>https://t.co/woVJokZGQb</td>\n",
       "    </tr>\n",
       "    <tr>\n",
       "      <th>3</th>\n",
       "      <td>3</td>\n",
       "      <td>jessica_alupo</td>\n",
       "      <td>2nd female vice president of the republic of u...</td>\n",
       "      <td>https://twitter.com/jessica_alupo</td>\n",
       "      <td>kampala, uganda</td>\n",
       "      <td>https://t.co/g327WBeX24</td>\n",
       "    </tr>\n",
       "    <tr>\n",
       "      <th>4</th>\n",
       "      <td>4</td>\n",
       "      <td>potus</td>\n",
       "      <td>46th president of the united states, husband t...</td>\n",
       "      <td>https://twitter.com/POTUS</td>\n",
       "      <td>NaN</td>\n",
       "      <td>https://t.co/MzB1JWfbJ0</td>\n",
       "    </tr>\n",
       "  </tbody>\n",
       "</table>\n",
       "</div>"
      ],
      "text/plain": [
       "   Unnamed: 0         username  \\\n",
       "0           0          vpindia   \n",
       "1           1               vp   \n",
       "2           2  madam_president   \n",
       "3           3    jessica_alupo   \n",
       "4           4            potus   \n",
       "\n",
       "                                                 bio  \\\n",
       "0  official twitter account of the vice president...   \n",
       "1  vice president of the united states. wife to t...   \n",
       "2  a project of @emilyslist with the goal of elec...   \n",
       "3  2nd female vice president of the republic of u...   \n",
       "4  46th president of the united states, husband t...   \n",
       "\n",
       "                           profile_url          location  \\\n",
       "0          https://twitter.com/VPIndia  new delhi, india   \n",
       "1               https://twitter.com/VP               NaN   \n",
       "2  https://twitter.com/Madam_President               NaN   \n",
       "3    https://twitter.com/jessica_alupo   kampala, uganda   \n",
       "4            https://twitter.com/POTUS               NaN   \n",
       "\n",
       "                   website  \n",
       "0  https://t.co/1u25beBv9x  \n",
       "1  https://t.co/vbwTCDuFie  \n",
       "2  https://t.co/woVJokZGQb  \n",
       "3  https://t.co/g327WBeX24  \n",
       "4  https://t.co/MzB1JWfbJ0  "
      ]
     },
     "execution_count": 3,
     "metadata": {},
     "output_type": "execute_result"
    }
   ],
   "source": [
    "# Display the first few rows to verify the data is loaded correctly\n",
    "df.head()"
   ]
  },
  {
   "cell_type": "code",
   "execution_count": 4,
   "metadata": {},
   "outputs": [
    {
     "name": "stdout",
     "output_type": "stream",
     "text": [
      "Shape of the dataset: (5432, 6)\n"
     ]
    }
   ],
   "source": [
    "# Check the shape of the dataset\n",
    "print(\"Shape of the dataset:\", df.shape)"
   ]
  },
  {
   "cell_type": "code",
   "execution_count": 5,
   "metadata": {},
   "outputs": [
    {
     "name": "stdout",
     "output_type": "stream",
     "text": [
      "\n",
      "Missing values in each column:\n",
      "Unnamed: 0       0\n",
      "username         0\n",
      "bio              0\n",
      "profile_url      0\n",
      "location       818\n",
      "website        872\n",
      "dtype: int64\n"
     ]
    }
   ],
   "source": [
    "# Check for missing values\n",
    "print(\"\\nMissing values in each column:\")\n",
    "print(df.isnull().sum())"
   ]
  },
  {
   "cell_type": "code",
   "execution_count": 6,
   "metadata": {},
   "outputs": [
    {
     "name": "stdout",
     "output_type": "stream",
     "text": [
      "\n",
      "Dataset Info:\n",
      "<class 'pandas.core.frame.DataFrame'>\n",
      "RangeIndex: 5432 entries, 0 to 5431\n",
      "Data columns (total 6 columns):\n",
      " #   Column       Non-Null Count  Dtype \n",
      "---  ------       --------------  ----- \n",
      " 0   Unnamed: 0   5432 non-null   int64 \n",
      " 1   username     5432 non-null   object\n",
      " 2   bio          5432 non-null   object\n",
      " 3   profile_url  5432 non-null   object\n",
      " 4   location     4614 non-null   object\n",
      " 5   website      4560 non-null   object\n",
      "dtypes: int64(1), object(5)\n",
      "memory usage: 254.8+ KB\n",
      "None\n"
     ]
    }
   ],
   "source": [
    "# Display basic information about the dataset\n",
    "print(\"\\nDataset Info:\")\n",
    "print(df.info())"
   ]
  },
  {
   "cell_type": "code",
   "execution_count": 7,
   "metadata": {},
   "outputs": [
    {
     "name": "stdout",
     "output_type": "stream",
     "text": [
      "\n",
      "Summary Statistics:\n",
      "         Unnamed: 0 username    bio                  profile_url    location  \\\n",
      "count   5432.000000     5432   5432                         5432        4614   \n",
      "unique          NaN     4918   5315                         4918        2065   \n",
      "top             NaN  vpindia  Actor  https://twitter.com/VPIndia  Toronto,ON   \n",
      "freq            NaN        3     15                            3          87   \n",
      "mean    2716.742084      NaN    NaN                          NaN         NaN   \n",
      "std     1569.488478      NaN    NaN                          NaN         NaN   \n",
      "min        0.000000      NaN    NaN                          NaN         NaN   \n",
      "25%     1357.750000      NaN    NaN                          NaN         NaN   \n",
      "50%     2715.500000      NaN    NaN                          NaN         NaN   \n",
      "75%     4076.250000      NaN    NaN                          NaN         NaN   \n",
      "max     5434.000000      NaN    NaN                          NaN         NaN   \n",
      "\n",
      "        website  \n",
      "count      4560  \n",
      "unique     4503  \n",
      "top     bjp.org  \n",
      "freq         16  \n",
      "mean        NaN  \n",
      "std         NaN  \n",
      "min         NaN  \n",
      "25%         NaN  \n",
      "50%         NaN  \n",
      "75%         NaN  \n",
      "max         NaN  \n"
     ]
    }
   ],
   "source": [
    "# Display basic statistics for numerical columns\n",
    "print(\"\\nSummary Statistics:\")\n",
    "print(df.describe(include='all'))"
   ]
  },
  {
   "cell_type": "code",
   "execution_count": 8,
   "metadata": {},
   "outputs": [],
   "source": [
    "# Drop the unnecessary 'Unnamed: 0' column\n",
    "df = df.drop(columns=['Unnamed: 0'])"
   ]
  },
  {
   "cell_type": "code",
   "execution_count": 9,
   "metadata": {},
   "outputs": [
    {
     "name": "stdout",
     "output_type": "stream",
     "text": [
      "Updated DataFrame:\n"
     ]
    },
    {
     "data": {
      "text/html": [
       "<div>\n",
       "<style scoped>\n",
       "    .dataframe tbody tr th:only-of-type {\n",
       "        vertical-align: middle;\n",
       "    }\n",
       "\n",
       "    .dataframe tbody tr th {\n",
       "        vertical-align: top;\n",
       "    }\n",
       "\n",
       "    .dataframe thead th {\n",
       "        text-align: right;\n",
       "    }\n",
       "</style>\n",
       "<table border=\"1\" class=\"dataframe\">\n",
       "  <thead>\n",
       "    <tr style=\"text-align: right;\">\n",
       "      <th></th>\n",
       "      <th>username</th>\n",
       "      <th>bio</th>\n",
       "      <th>profile_url</th>\n",
       "      <th>location</th>\n",
       "      <th>website</th>\n",
       "    </tr>\n",
       "  </thead>\n",
       "  <tbody>\n",
       "    <tr>\n",
       "      <th>0</th>\n",
       "      <td>vpindia</td>\n",
       "      <td>official twitter account of the vice president...</td>\n",
       "      <td>https://twitter.com/VPIndia</td>\n",
       "      <td>new delhi, india</td>\n",
       "      <td>https://t.co/1u25beBv9x</td>\n",
       "    </tr>\n",
       "    <tr>\n",
       "      <th>1</th>\n",
       "      <td>vp</td>\n",
       "      <td>vice president of the united states. wife to t...</td>\n",
       "      <td>https://twitter.com/VP</td>\n",
       "      <td>NaN</td>\n",
       "      <td>https://t.co/vbwTCDuFie</td>\n",
       "    </tr>\n",
       "    <tr>\n",
       "      <th>2</th>\n",
       "      <td>madam_president</td>\n",
       "      <td>a project of @emilyslist with the goal of elec...</td>\n",
       "      <td>https://twitter.com/Madam_President</td>\n",
       "      <td>NaN</td>\n",
       "      <td>https://t.co/woVJokZGQb</td>\n",
       "    </tr>\n",
       "    <tr>\n",
       "      <th>3</th>\n",
       "      <td>jessica_alupo</td>\n",
       "      <td>2nd female vice president of the republic of u...</td>\n",
       "      <td>https://twitter.com/jessica_alupo</td>\n",
       "      <td>kampala, uganda</td>\n",
       "      <td>https://t.co/g327WBeX24</td>\n",
       "    </tr>\n",
       "    <tr>\n",
       "      <th>4</th>\n",
       "      <td>potus</td>\n",
       "      <td>46th president of the united states, husband t...</td>\n",
       "      <td>https://twitter.com/POTUS</td>\n",
       "      <td>NaN</td>\n",
       "      <td>https://t.co/MzB1JWfbJ0</td>\n",
       "    </tr>\n",
       "  </tbody>\n",
       "</table>\n",
       "</div>"
      ],
      "text/plain": [
       "          username                                                bio  \\\n",
       "0          vpindia  official twitter account of the vice president...   \n",
       "1               vp  vice president of the united states. wife to t...   \n",
       "2  madam_president  a project of @emilyslist with the goal of elec...   \n",
       "3    jessica_alupo  2nd female vice president of the republic of u...   \n",
       "4            potus  46th president of the united states, husband t...   \n",
       "\n",
       "                           profile_url          location  \\\n",
       "0          https://twitter.com/VPIndia  new delhi, india   \n",
       "1               https://twitter.com/VP               NaN   \n",
       "2  https://twitter.com/Madam_President               NaN   \n",
       "3    https://twitter.com/jessica_alupo   kampala, uganda   \n",
       "4            https://twitter.com/POTUS               NaN   \n",
       "\n",
       "                   website  \n",
       "0  https://t.co/1u25beBv9x  \n",
       "1  https://t.co/vbwTCDuFie  \n",
       "2  https://t.co/woVJokZGQb  \n",
       "3  https://t.co/g327WBeX24  \n",
       "4  https://t.co/MzB1JWfbJ0  "
      ]
     },
     "execution_count": 9,
     "metadata": {},
     "output_type": "execute_result"
    }
   ],
   "source": [
    "# Display the updated DataFrame to confirm the column is removed\n",
    "print(\"Updated DataFrame:\")\n",
    "df.head()"
   ]
  },
  {
   "cell_type": "code",
   "execution_count": 10,
   "metadata": {},
   "outputs": [],
   "source": [
    "# Fill missing values in 'location' and 'website'\n",
    "df['location'].fillna('Unknown', inplace=True)\n",
    "df['website'].fillna('No website', inplace=True)"
   ]
  },
  {
   "cell_type": "code",
   "execution_count": 11,
   "metadata": {},
   "outputs": [
    {
     "name": "stdout",
     "output_type": "stream",
     "text": [
      "Missing values after filling:\n"
     ]
    },
    {
     "data": {
      "text/plain": [
       "username       0\n",
       "bio            0\n",
       "profile_url    0\n",
       "location       0\n",
       "website        0\n",
       "dtype: int64"
      ]
     },
     "execution_count": 11,
     "metadata": {},
     "output_type": "execute_result"
    }
   ],
   "source": [
    "# Confirm that there are no more missing values\n",
    "print(\"Missing values after filling:\")\n",
    "df.isnull().sum()"
   ]
  },
  {
   "cell_type": "code",
   "execution_count": 12,
   "metadata": {},
   "outputs": [
    {
     "name": "stdout",
     "output_type": "stream",
     "text": [
      "Cleaned 'bio' column:\n",
      "0    official twitter account of the vice president...\n",
      "1    vice president of the united states wife to th...\n",
      "2    a project of emilyslist with the goal of elect...\n",
      "3    nd female vice president of the republic of ug...\n",
      "4    th president of the united states husband to f...\n",
      "Name: bio, dtype: object\n"
     ]
    }
   ],
   "source": [
    "import re\n",
    "\n",
    "# Function to clean the text in the 'bio' column\n",
    "def clean_text(text):\n",
    "    # Remove URLs\n",
    "    text = re.sub(r'http\\S+|www\\S+|https\\S+', '', text, flags=re.MULTILINE)\n",
    "    # Remove special characters and numbers\n",
    "    text = re.sub(r'[^a-zA-Z\\s]', '', text)\n",
    "    # Convert to lowercase\n",
    "    text = text.lower()\n",
    "    return text\n",
    "\n",
    "# Apply the cleaning function to the 'bio' column\n",
    "df['bio'] = df['bio'].apply(clean_text)\n",
    "\n",
    "# Display the cleaned text\n",
    "print(\"Cleaned 'bio' column:\")\n",
    "print(df['bio'].head())\n"
   ]
  },
  {
   "cell_type": "code",
   "execution_count": 13,
   "metadata": {},
   "outputs": [
    {
     "name": "stdout",
     "output_type": "stream",
     "text": [
      "TF-IDF matrix shape: (5432, 1000)\n",
      "TF-IDF DataFrame head:\n",
      "   about  academy   account  accounts  across  action  activist  actor  \\\n",
      "0    0.0      0.0  0.293001       0.0     0.0     0.0       0.0    0.0   \n",
      "1    0.0      0.0  0.000000       0.0     0.0     0.0       0.0    0.0   \n",
      "2    0.0      0.0  0.000000       0.0     0.0     0.0       0.0    0.0   \n",
      "3    0.0      0.0  0.000000       0.0     0.0     0.0       0.0    0.0   \n",
      "4    0.0      0.0  0.000000       0.0     0.0     0.0       0.0    0.0   \n",
      "\n",
      "   actress  administration  ...  year  years  york  you  young  your  youth  \\\n",
      "0      0.0             0.0  ...   0.0    0.0   0.0  0.0    0.0   0.0    0.0   \n",
      "1      0.0             0.0  ...   0.0    0.0   0.0  0.0    0.0   0.0    0.0   \n",
      "2      0.0             0.0  ...   0.0    0.0   0.0  0.0    0.0   0.0    0.0   \n",
      "3      0.0             0.0  ...   0.0    0.0   0.0  0.0    0.0   0.0    0.0   \n",
      "4      0.0             0.0  ...   0.0    0.0   0.0  0.0    0.0   0.0    0.0   \n",
      "\n",
      "   youtube  youtuber  yrs  \n",
      "0      0.0       0.0  0.0  \n",
      "1      0.0       0.0  0.0  \n",
      "2      0.0       0.0  0.0  \n",
      "3      0.0       0.0  0.0  \n",
      "4      0.0       0.0  0.0  \n",
      "\n",
      "[5 rows x 1000 columns]\n"
     ]
    }
   ],
   "source": [
    "from sklearn.feature_extraction.text import TfidfVectorizer\n",
    "\n",
    "# Initialize the TF-IDF Vectorizer\n",
    "tfidf_vectorizer = TfidfVectorizer(max_features=1000)  # Adjust max_features as needed\n",
    "\n",
    "# Fit and transform the 'bio' column\n",
    "tfidf_matrix = tfidf_vectorizer.fit_transform(df['bio'])\n",
    "\n",
    "# Convert the TF-IDF matrix to a DataFrame for easier analysis\n",
    "tfidf_df = pd.DataFrame(tfidf_matrix.toarray(), columns=tfidf_vectorizer.get_feature_names_out())\n",
    "\n",
    "# Display the shape of the TF-IDF matrix and the first few rows\n",
    "print(\"TF-IDF matrix shape:\", tfidf_df.shape)\n",
    "print(\"TF-IDF DataFrame head:\")\n",
    "print(tfidf_df.head())\n"
   ]
  },
  {
   "cell_type": "code",
   "execution_count": 14,
   "metadata": {},
   "outputs": [],
   "source": [
    "from sklearn.model_selection import train_test_split\n",
    "from sklearn.linear_model import LinearRegression\n",
    "import pickle"
   ]
  },
  {
   "cell_type": "code",
   "execution_count": 15,
   "metadata": {},
   "outputs": [],
   "source": [
    "df['pq_score'] = np.random.rand(len(df))"
   ]
  },
  {
   "cell_type": "code",
   "execution_count": 16,
   "metadata": {},
   "outputs": [],
   "source": [
    "# Split the data into features (X) and target (y)\n",
    "X = tfidf_df\n",
    "y = df['pq_score']"
   ]
  },
  {
   "cell_type": "code",
   "execution_count": 17,
   "metadata": {},
   "outputs": [],
   "source": [
    "# Split the dataset into training and testing sets\n",
    "X_train, X_test, y_train, y_test = train_test_split(X, y, test_size=0.2, random_state=42)\n"
   ]
  },
  {
   "cell_type": "code",
   "execution_count": 18,
   "metadata": {},
   "outputs": [
    {
     "data": {
      "text/html": [
       "<style>#sk-container-id-1 {color: black;}#sk-container-id-1 pre{padding: 0;}#sk-container-id-1 div.sk-toggleable {background-color: white;}#sk-container-id-1 label.sk-toggleable__label {cursor: pointer;display: block;width: 100%;margin-bottom: 0;padding: 0.3em;box-sizing: border-box;text-align: center;}#sk-container-id-1 label.sk-toggleable__label-arrow:before {content: \"▸\";float: left;margin-right: 0.25em;color: #696969;}#sk-container-id-1 label.sk-toggleable__label-arrow:hover:before {color: black;}#sk-container-id-1 div.sk-estimator:hover label.sk-toggleable__label-arrow:before {color: black;}#sk-container-id-1 div.sk-toggleable__content {max-height: 0;max-width: 0;overflow: hidden;text-align: left;background-color: #f0f8ff;}#sk-container-id-1 div.sk-toggleable__content pre {margin: 0.2em;color: black;border-radius: 0.25em;background-color: #f0f8ff;}#sk-container-id-1 input.sk-toggleable__control:checked~div.sk-toggleable__content {max-height: 200px;max-width: 100%;overflow: auto;}#sk-container-id-1 input.sk-toggleable__control:checked~label.sk-toggleable__label-arrow:before {content: \"▾\";}#sk-container-id-1 div.sk-estimator input.sk-toggleable__control:checked~label.sk-toggleable__label {background-color: #d4ebff;}#sk-container-id-1 div.sk-label input.sk-toggleable__control:checked~label.sk-toggleable__label {background-color: #d4ebff;}#sk-container-id-1 input.sk-hidden--visually {border: 0;clip: rect(1px 1px 1px 1px);clip: rect(1px, 1px, 1px, 1px);height: 1px;margin: -1px;overflow: hidden;padding: 0;position: absolute;width: 1px;}#sk-container-id-1 div.sk-estimator {font-family: monospace;background-color: #f0f8ff;border: 1px dotted black;border-radius: 0.25em;box-sizing: border-box;margin-bottom: 0.5em;}#sk-container-id-1 div.sk-estimator:hover {background-color: #d4ebff;}#sk-container-id-1 div.sk-parallel-item::after {content: \"\";width: 100%;border-bottom: 1px solid gray;flex-grow: 1;}#sk-container-id-1 div.sk-label:hover label.sk-toggleable__label {background-color: #d4ebff;}#sk-container-id-1 div.sk-serial::before {content: \"\";position: absolute;border-left: 1px solid gray;box-sizing: border-box;top: 0;bottom: 0;left: 50%;z-index: 0;}#sk-container-id-1 div.sk-serial {display: flex;flex-direction: column;align-items: center;background-color: white;padding-right: 0.2em;padding-left: 0.2em;position: relative;}#sk-container-id-1 div.sk-item {position: relative;z-index: 1;}#sk-container-id-1 div.sk-parallel {display: flex;align-items: stretch;justify-content: center;background-color: white;position: relative;}#sk-container-id-1 div.sk-item::before, #sk-container-id-1 div.sk-parallel-item::before {content: \"\";position: absolute;border-left: 1px solid gray;box-sizing: border-box;top: 0;bottom: 0;left: 50%;z-index: -1;}#sk-container-id-1 div.sk-parallel-item {display: flex;flex-direction: column;z-index: 1;position: relative;background-color: white;}#sk-container-id-1 div.sk-parallel-item:first-child::after {align-self: flex-end;width: 50%;}#sk-container-id-1 div.sk-parallel-item:last-child::after {align-self: flex-start;width: 50%;}#sk-container-id-1 div.sk-parallel-item:only-child::after {width: 0;}#sk-container-id-1 div.sk-dashed-wrapped {border: 1px dashed gray;margin: 0 0.4em 0.5em 0.4em;box-sizing: border-box;padding-bottom: 0.4em;background-color: white;}#sk-container-id-1 div.sk-label label {font-family: monospace;font-weight: bold;display: inline-block;line-height: 1.2em;}#sk-container-id-1 div.sk-label-container {text-align: center;}#sk-container-id-1 div.sk-container {/* jupyter's `normalize.less` sets `[hidden] { display: none; }` but bootstrap.min.css set `[hidden] { display: none !important; }` so we also need the `!important` here to be able to override the default hidden behavior on the sphinx rendered scikit-learn.org. See: https://github.com/scikit-learn/scikit-learn/issues/21755 */display: inline-block !important;position: relative;}#sk-container-id-1 div.sk-text-repr-fallback {display: none;}</style><div id=\"sk-container-id-1\" class=\"sk-top-container\"><div class=\"sk-text-repr-fallback\"><pre>LinearRegression()</pre><b>In a Jupyter environment, please rerun this cell to show the HTML representation or trust the notebook. <br />On GitHub, the HTML representation is unable to render, please try loading this page with nbviewer.org.</b></div><div class=\"sk-container\" hidden><div class=\"sk-item\"><div class=\"sk-estimator sk-toggleable\"><input class=\"sk-toggleable__control sk-hidden--visually\" id=\"sk-estimator-id-1\" type=\"checkbox\" checked><label for=\"sk-estimator-id-1\" class=\"sk-toggleable__label sk-toggleable__label-arrow\">LinearRegression</label><div class=\"sk-toggleable__content\"><pre>LinearRegression()</pre></div></div></div></div></div>"
      ],
      "text/plain": [
       "LinearRegression()"
      ]
     },
     "execution_count": 18,
     "metadata": {},
     "output_type": "execute_result"
    }
   ],
   "source": [
    "# Train a Linear Regression model\n",
    "model = LinearRegression()\n",
    "model.fit(X_train, y_train)\n"
   ]
  },
  {
   "cell_type": "code",
   "execution_count": 19,
   "metadata": {},
   "outputs": [
    {
     "name": "stdout",
     "output_type": "stream",
     "text": [
      "Model trained and saved successfully!\n"
     ]
    }
   ],
   "source": [
    "# Save the trained model to a pickle file\n",
    "with open('twitter_leaders_model.pkl', 'wb') as model_file:\n",
    "    pickle.dump(model, model_file)\n",
    "\n",
    "with open('tfidf_vectorizer.pkl', 'wb') as vectorizer_file:\n",
    "    pickle.dump(tfidf_vectorizer, vectorizer_file)\n",
    "\n",
    "print(\"Model trained and saved successfully!\")"
   ]
  },
  {
   "cell_type": "code",
   "execution_count": 20,
   "metadata": {},
   "outputs": [],
   "source": [
    "from sklearn.metrics import mean_absolute_error, mean_squared_error, r2_score"
   ]
  },
  {
   "cell_type": "code",
   "execution_count": 21,
   "metadata": {},
   "outputs": [],
   "source": [
    "# Make predictions on the test set\n",
    "y_pred = model.predict(X_test)"
   ]
  },
  {
   "cell_type": "code",
   "execution_count": 22,
   "metadata": {},
   "outputs": [],
   "source": [
    "# Calculate evaluation metrics\n",
    "mae = mean_absolute_error(y_test, y_pred)\n",
    "mse = mean_squared_error(y_test, y_pred)\n",
    "r2 = r2_score(y_test, y_pred)"
   ]
  },
  {
   "cell_type": "code",
   "execution_count": 23,
   "metadata": {},
   "outputs": [
    {
     "name": "stdout",
     "output_type": "stream",
     "text": [
      "Model Evaluation Metrics:\n",
      "Mean Absolute Error (MAE): 0.2720\n",
      "Mean Squared Error (MSE): 0.1081\n",
      "R² Score: -0.3062\n"
     ]
    }
   ],
   "source": [
    "# Print the evaluation results\n",
    "print(\"Model Evaluation Metrics:\")\n",
    "print(f\"Mean Absolute Error (MAE): {mae:.4f}\")\n",
    "print(f\"Mean Squared Error (MSE): {mse:.4f}\")\n",
    "print(f\"R² Score: {r2:.4f}\")"
   ]
  },
  {
   "cell_type": "code",
   "execution_count": 24,
   "metadata": {},
   "outputs": [
    {
     "name": "stdout",
     "output_type": "stream",
     "text": [
      "Predicted PQ Scores: [0.67113238]\n"
     ]
    },
    {
     "name": "stderr",
     "output_type": "stream",
     "text": [
      "c:\\Users\\DANISH\\AppData\\Local\\Programs\\Python\\Python312\\Lib\\site-packages\\sklearn\\base.py:465: UserWarning: X does not have valid feature names, but LinearRegression was fitted with feature names\n",
      "  warnings.warn(\n"
     ]
    }
   ],
   "source": [
    "def predict_pq_score(new_bios, model_path='twitter_leaders_model.pkl'):\n",
    "    # Load the saved model\n",
    "    with open(model_path, 'rb') as model_file:\n",
    "        loaded_model = pickle.load(model_file)\n",
    "    \n",
    "    # Preprocess the new bios (using the same TF-IDF vectorization as before)\n",
    "    new_tfidf = tfidf_vectorizer.transform(new_bios)\n",
    "    \n",
    "    # Make predictions\n",
    "    predictions = loaded_model.predict(new_tfidf)\n",
    "    return predictions\n",
    "\n",
    "# Example usage with new bios\n",
    "new_bios = [\n",
    "    \"official twitter account of the vice president of india, shri jagdeep dhankhar.\"  \n",
    "]\n",
    "\n",
    "predicted_scores = predict_pq_score(new_bios)\n",
    "print(\"Predicted PQ Scores:\", predicted_scores)\n"
   ]
  }
 ],
 "metadata": {
  "kernelspec": {
   "display_name": "Python 3",
   "language": "python",
   "name": "python3"
  },
  "language_info": {
   "codemirror_mode": {
    "name": "ipython",
    "version": 3
   },
   "file_extension": ".py",
   "mimetype": "text/x-python",
   "name": "python",
   "nbconvert_exporter": "python",
   "pygments_lexer": "ipython3",
   "version": "3.12.1"
  }
 },
 "nbformat": 4,
 "nbformat_minor": 2
}
